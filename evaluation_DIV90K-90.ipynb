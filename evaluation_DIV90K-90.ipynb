{
 "cells": [
  {
   "cell_type": "code",
   "execution_count": 1,
   "id": "6f721a55",
   "metadata": {},
   "outputs": [],
   "source": [
    "import os\n",
    "from pathlib import Path\n",
    "\n",
    "from tqdm import tqdm\n",
    "import numpy as np\n",
    "import pandas as pd\n",
    "\n",
    "from PIL import Image, ImageDraw\n",
    "\n",
    "import torch\n",
    "import torch.nn as nn\n",
    "import torch.optim as optim\n",
    "import torch.nn.functional as F\n",
    "from torch.utils.data import Dataset, DataLoader\n",
    "from torch.utils.tensorboard import SummaryWriter\n",
    "\n",
    "import torchvision.transforms as T\n",
    "\n",
    "from models import srgan, esrgan, mesrgan\n",
    "from data import *\n",
    "from utils import denormalize, psnr, ssim_rgb"
   ]
  },
  {
   "cell_type": "markdown",
   "id": "89cc455e",
   "metadata": {},
   "source": [
    "# Hyperparameters"
   ]
  },
  {
   "cell_type": "code",
   "execution_count": 2,
   "id": "5f34f95e",
   "metadata": {},
   "outputs": [],
   "source": [
    "DATA_FOLDER = 'data/image_SRF_4/'\n",
    "OUTPUT_FOLDER = 'BSD100/'"
   ]
  },
  {
   "cell_type": "markdown",
   "id": "5892b7be",
   "metadata": {},
   "source": [
    "# Data"
   ]
  },
  {
   "cell_type": "code",
   "execution_count": 3,
   "id": "ef3275f6",
   "metadata": {},
   "outputs": [],
   "source": [
    "data_mean  = [0.4439, 0.4517, 0.4054]\n",
    "data_std   = [0.2738, 0.2607, 0.2856]\n",
    "\n",
    "class Interpolate:\n",
    "    def __call__(self, img):\n",
    "        return F.interpolate(\n",
    "            img.unsqueeze(0), \n",
    "            size=tuple(int(i/4) for i in img.shape[1:]), \n",
    "            mode='bicubic', \n",
    "            align_corners=False\n",
    "        )\n",
    "    \n",
    "to_lr = T.Compose([\n",
    "    T.Normalize(mean=data_mean, std=data_std),\n",
    "    Interpolate()\n",
    "])\n",
    "dataset   = ImageDataset(DATA_FOLDER)"
   ]
  },
  {
   "cell_type": "markdown",
   "id": "b944b7c0",
   "metadata": {},
   "source": [
    "# Pandas"
   ]
  },
  {
   "cell_type": "code",
   "execution_count": 4,
   "id": "8f07d09c",
   "metadata": {
    "scrolled": true
   },
   "outputs": [
    {
     "data": {
      "text/html": [
       "<div>\n",
       "<style scoped>\n",
       "    .dataframe tbody tr th:only-of-type {\n",
       "        vertical-align: middle;\n",
       "    }\n",
       "\n",
       "    .dataframe tbody tr th {\n",
       "        vertical-align: top;\n",
       "    }\n",
       "\n",
       "    .dataframe thead tr th {\n",
       "        text-align: left;\n",
       "    }\n",
       "</style>\n",
       "<table border=\"1\" class=\"dataframe\">\n",
       "  <thead>\n",
       "    <tr>\n",
       "      <th></th>\n",
       "      <th>SRGAN</th>\n",
       "      <th>ESRGAN</th>\n",
       "      <th>MESRGAN_T2</th>\n",
       "      <th>SRGAN</th>\n",
       "      <th>ESRGAN</th>\n",
       "      <th>MESRGAN_T2</th>\n",
       "    </tr>\n",
       "    <tr>\n",
       "      <th></th>\n",
       "      <th>PSNR</th>\n",
       "      <th>SSIM</th>\n",
       "      <th>PSNR</th>\n",
       "      <th>SSIM</th>\n",
       "      <th>PSNR</th>\n",
       "      <th>SSIM</th>\n",
       "    </tr>\n",
       "  </thead>\n",
       "  <tbody>\n",
       "    <tr>\n",
       "      <th>0</th>\n",
       "      <td>0.0</td>\n",
       "      <td>0.0</td>\n",
       "      <td>0.0</td>\n",
       "      <td>0.0</td>\n",
       "      <td>0.0</td>\n",
       "      <td>0.0</td>\n",
       "    </tr>\n",
       "    <tr>\n",
       "      <th>1</th>\n",
       "      <td>0.0</td>\n",
       "      <td>0.0</td>\n",
       "      <td>0.0</td>\n",
       "      <td>0.0</td>\n",
       "      <td>0.0</td>\n",
       "      <td>0.0</td>\n",
       "    </tr>\n",
       "    <tr>\n",
       "      <th>2</th>\n",
       "      <td>0.0</td>\n",
       "      <td>0.0</td>\n",
       "      <td>0.0</td>\n",
       "      <td>0.0</td>\n",
       "      <td>0.0</td>\n",
       "      <td>0.0</td>\n",
       "    </tr>\n",
       "    <tr>\n",
       "      <th>3</th>\n",
       "      <td>0.0</td>\n",
       "      <td>0.0</td>\n",
       "      <td>0.0</td>\n",
       "      <td>0.0</td>\n",
       "      <td>0.0</td>\n",
       "      <td>0.0</td>\n",
       "    </tr>\n",
       "    <tr>\n",
       "      <th>4</th>\n",
       "      <td>0.0</td>\n",
       "      <td>0.0</td>\n",
       "      <td>0.0</td>\n",
       "      <td>0.0</td>\n",
       "      <td>0.0</td>\n",
       "      <td>0.0</td>\n",
       "    </tr>\n",
       "  </tbody>\n",
       "</table>\n",
       "</div>"
      ],
      "text/plain": [
       "  SRGAN ESRGAN MESRGAN_T2 SRGAN ESRGAN MESRGAN_T2\n",
       "   PSNR   SSIM       PSNR  SSIM   PSNR       SSIM\n",
       "0   0.0    0.0        0.0   0.0    0.0        0.0\n",
       "1   0.0    0.0        0.0   0.0    0.0        0.0\n",
       "2   0.0    0.0        0.0   0.0    0.0        0.0\n",
       "3   0.0    0.0        0.0   0.0    0.0        0.0\n",
       "4   0.0    0.0        0.0   0.0    0.0        0.0"
      ]
     },
     "execution_count": 4,
     "metadata": {},
     "output_type": "execute_result"
    }
   ],
   "source": [
    "arrays = [\n",
    "    np.array([\"SRGAN\", \"ESRGAN\", \"MESRGAN_T2\"] * 2),\n",
    "\n",
    "    np.array([\"PSNR\", \"SSIM\", ] * 3),\n",
    "]\n",
    "\n",
    "df = pd.DataFrame(np.zeros((90, 6)), columns=arrays)\n",
    "df.head(5)"
   ]
  },
  {
   "cell_type": "markdown",
   "id": "7acc29fc",
   "metadata": {},
   "source": [
    "# Benchmark"
   ]
  },
  {
   "cell_type": "code",
   "execution_count": 5,
   "id": "d5e610c9",
   "metadata": {},
   "outputs": [],
   "source": [
    "generator_names = ['SRGAN', 'ESRGAN', 'MESRGAN_T2']\n",
    "generator_models = [srgan, esrgan, mesrgan]\n",
    "generator_trained_paths = [name + '_ALL_DATA_stage2_generator.trch' for name in generator_names]"
   ]
  },
  {
   "cell_type": "code",
   "execution_count": 6,
   "id": "e01bb8b3",
   "metadata": {},
   "outputs": [
    {
     "name": "stderr",
     "output_type": "stream",
     "text": [
      "3it [07:08, 142.90s/it]\n"
     ]
    }
   ],
   "source": [
    "if not os.path.isdir(OUTPUT_FOLDER):\n",
    "    os.mkdir(OUTPUT_FOLDER)\n",
    "        \n",
    "package = zip(generator_models, generator_names, generator_trained_paths)\n",
    "for model, name, model_path in tqdm(package):\n",
    "    generator = model.Generator()\n",
    "    generator.load_state_dict(torch.load('trained_models/' + model_path))\n",
    "    generator.to(\"cuda:1\")\n",
    "    \n",
    "    for i, hr_image in enumerate(dataset):\n",
    "        if not os.path.isdir(OUTPUT_FOLDER + 'hr_images/'):\n",
    "            os.mkdir(OUTPUT_FOLDER + 'hr_images/')\n",
    "        \n",
    "        if not os.path.isdir(OUTPUT_FOLDER + name):\n",
    "            os.mkdir(OUTPUT_FOLDER + name)\n",
    "            \n",
    "        hr_image.save(OUTPUT_FOLDER + 'hr_images/' + f'{i}.png')\n",
    "        hr_image_tensor = T.ToTensor()(hr_image)\n",
    "        \n",
    "        lr_image_tensor = to_lr(hr_image_tensor).to(\"cuda:1\")\n",
    "        \n",
    "        with torch.no_grad():\n",
    "            output = generator(lr_image_tensor)\n",
    "            sr_image_tensor = denormalize(output.cpu()).squeeze(0)\n",
    "    \n",
    "        psnr_item = psnr(hr_image_tensor, sr_image_tensor).item()\n",
    "        ssim_item = ssim_rgb(hr_image_tensor, sr_image_tensor).item()\n",
    "\n",
    "        df.loc[i, (name,'PSNR')] = psnr_item\n",
    "        df.loc[i, (name,'SSIM')] = ssim_item\n",
    "\n",
    "        sr_image_pil = T.ToPILImage()(sr_image_tensor).convert(\"RGB\")\n",
    "        sr_image_pil.save(OUTPUT_FOLDER + name + f'/{i}.png')"
   ]
  },
  {
   "cell_type": "code",
   "execution_count": 7,
   "id": "7f8d7b34",
   "metadata": {},
   "outputs": [
    {
     "name": "stdout",
     "output_type": "stream",
     "text": [
      "\\begin{tabular}{llr}\n",
      "\\toprule\n",
      "           &      &      0 \\\\\n",
      "\\midrule\n",
      "SRGAN & PSNR &  28.47 \\\\\n",
      "ESRGAN & SSIM &   0.96 \\\\\n",
      "MESRGAN\\_T2 & PSNR &  27.36 \\\\\n",
      "SRGAN & SSIM &   0.97 \\\\\n",
      "ESRGAN & PSNR &  27.72 \\\\\n",
      "MESRGAN\\_T2 & SSIM &   0.95 \\\\\n",
      "\\bottomrule\n",
      "\\end{tabular}\n",
      "\n"
     ]
    }
   ],
   "source": [
    "# We reformated this table in the report\n",
    "print(df.mean().round(2).to_latex())"
   ]
  }
 ],
 "metadata": {
  "kernelspec": {
   "display_name": "Python 3",
   "language": "python",
   "name": "python3"
  },
  "language_info": {
   "codemirror_mode": {
    "name": "ipython",
    "version": 3
   },
   "file_extension": ".py",
   "mimetype": "text/x-python",
   "name": "python",
   "nbconvert_exporter": "python",
   "pygments_lexer": "ipython3",
   "version": "3.8.8"
  }
 },
 "nbformat": 4,
 "nbformat_minor": 5
}
