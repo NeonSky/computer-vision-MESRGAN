{
 "cells": [
  {
   "cell_type": "code",
   "execution_count": 9,
   "id": "e3ffd3ea",
   "metadata": {},
   "outputs": [],
   "source": [
    "import pandas as pd\n",
    "\n",
    "import torch\n",
    "import torch.utils.benchmark as benchmark\n",
    "\n",
    "from models import srgan, esrgan, mesrgan"
   ]
  },
  {
   "cell_type": "code",
   "execution_count": 2,
   "id": "6a86a353",
   "metadata": {},
   "outputs": [],
   "source": [
    "device = torch.device(\"cuda:1\")"
   ]
  },
  {
   "cell_type": "code",
   "execution_count": 3,
   "id": "2d03f6c4",
   "metadata": {},
   "outputs": [],
   "source": [
    "# Define networks\n",
    "generator_names = ['SRGAN', 'ESRGAN', 'MESRGAN_T2']\n",
    "generator_models = [srgan, esrgan, mesrgan]\n",
    "generator_trained_paths = ['trained_models/' + name + '_ALL_DATA_stage2_generator.trch' for name in generator_names]"
   ]
  },
  {
   "cell_type": "code",
   "execution_count": 4,
   "id": "c3614234",
   "metadata": {},
   "outputs": [
    {
     "name": "stdout",
     "output_type": "stream",
     "text": [
      "Batch size: 1, model: SRGAN\n",
      "Batch size: 1, model: ESRGAN\n",
      "Batch size: 1, model: MESRGAN_T2\n",
      "Batch size: 2, model: SRGAN\n",
      "Batch size: 2, model: ESRGAN\n",
      "Batch size: 2, model: MESRGAN_T2\n",
      "Batch size: 4, model: SRGAN\n",
      "Batch size: 4, model: ESRGAN\n",
      "Batch size: 4, model: MESRGAN_T2\n",
      "Batch size: 8, model: SRGAN\n",
      "Batch size: 8, model: ESRGAN\n",
      "Batch size: 8, model: MESRGAN_T2\n",
      "Batch size: 16, model: SRGAN\n",
      "Batch size: 16, model: ESRGAN\n",
      "Batch size: 16, model: MESRGAN_T2\n"
     ]
    }
   ],
   "source": [
    "batch_sizes = [1, 2, 4, 8, 16]\n",
    "forward_ts = {name: {batch_size: [] for batch_size in batch_sizes} for name in generator_names}\n",
    "\n",
    "def forward_test(generator, inp):\n",
    "    with torch.no_grad():\n",
    "        return generator(inp)\n",
    "\n",
    "# run the test\n",
    "package = list(zip(generator_names, generator_models, generator_trained_paths))\n",
    "for batch_size in batch_sizes:\n",
    "    inp = torch.randn(batch_size, 3, 128, 128)\n",
    "    inp = inp.to(device)\n",
    "    \n",
    "    for name, model, pretrain_path in package:\n",
    "        generator = model.Generator()\n",
    "        generator.load_state_dict(torch.load(pretrain_path))\n",
    "        generator.to(device)\n",
    "        generator.eval()\n",
    "        \n",
    "        print(f'Batch size: {batch_size}, model: {name}')\n",
    "        \n",
    "        forward_ts[name][batch_size] = benchmark.Timer(\n",
    "            stmt='forward_test(generator, inp)',\n",
    "            setup='from __main__ import forward_test', \n",
    "            globals={'generator': generator, 'inp': inp}\n",
    "        ).timeit(100).mean\n",
    "        "
   ]
  },
  {
   "cell_type": "code",
   "execution_count": 14,
   "id": "7cb19355",
   "metadata": {},
   "outputs": [],
   "source": [
    "# Put into pandas DataFrame and format it properly\n",
    "df = pd.DataFrame(forward_ts)\n",
    "df = df.rename(columns={'MESRGAN_T2': 'MESRGAN'})\n",
    "df = df.melt(var_name='Model', value_name='Time (s)', ignore_index=False)\n",
    "df = df.reset_index()\n",
    "df = df.rename(columns={'index': 'Batch size'})\n",
    "df.to_pickle(\"benchmark.pkl\")"
   ]
  },
  {
   "cell_type": "code",
   "execution_count": 33,
   "id": "f49f71a8",
   "metadata": {},
   "outputs": [
    {
     "name": "stdout",
     "output_type": "stream",
     "text": [
      "\\begin{tabular}{lrrr}\n",
      "\\toprule\n",
      "{} & \\multicolumn{3}{l}{Time (s)} \\\\\n",
      "Model &      ESRGAN &      MESRGAN &       SRGAN \\\\\n",
      "Batch size &             &              &             \\\\\n",
      "\\midrule\n",
      "1          &   33.444209 &   155.157632 &   26.442121 \\\\\n",
      "2          &   62.940485 &   299.802770 &   50.596326 \\\\\n",
      "4          &  126.464980 &   596.273267 &  134.314706 \\\\\n",
      "8          &  266.134177 &  1204.886182 &  279.197597 \\\\\n",
      "16         &  534.045201 &  2402.361290 &  561.801663 \\\\\n",
      "\\bottomrule\n",
      "\\end{tabular}\n",
      "\n"
     ]
    }
   ],
   "source": [
    "print((1000*df.pivot(index=\"Batch size\", columns=\"Model\")).to_latex())"
   ]
  }
 ],
 "metadata": {
  "kernelspec": {
   "display_name": "Python 3",
   "language": "python",
   "name": "python3"
  },
  "language_info": {
   "codemirror_mode": {
    "name": "ipython",
    "version": 3
   },
   "file_extension": ".py",
   "mimetype": "text/x-python",
   "name": "python",
   "nbconvert_exporter": "python",
   "pygments_lexer": "ipython3",
   "version": "3.8.8"
  }
 },
 "nbformat": 4,
 "nbformat_minor": 5
}
